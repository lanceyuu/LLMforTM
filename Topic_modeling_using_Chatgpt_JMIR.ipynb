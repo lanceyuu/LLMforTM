{
  "nbformat": 4,
  "nbformat_minor": 0,
  "metadata": {
    "colab": {
      "provenance": [],
      "authorship_tag": "ABX9TyMdZi8Nah+9r3d5pQothtAa",
      "include_colab_link": true
    },
    "kernelspec": {
      "name": "python3",
      "display_name": "Python 3"
    },
    "language_info": {
      "name": "python"
    }
  },
  "cells": [
    {
      "cell_type": "markdown",
      "metadata": {
        "id": "view-in-github",
        "colab_type": "text"
      },
      "source": [
        "<a href=\"https://colab.research.google.com/github/lanceyuu/LLMforTM/blob/main/Topic_modeling_using_Chatgpt_JMIR.ipynb\" target=\"_parent\"><img src=\"https://colab.research.google.com/assets/colab-badge.svg\" alt=\"Open In Colab\"/></a>"
      ]
    },
    {
      "cell_type": "markdown",
      "source": [
        "This script can be used to identify the topics, especially for short texts like chat messages and tweets. Author: Shubin Yu (Shubin.Yu@bi.no)"
      ],
      "metadata": {
        "id": "adexkGAT1StA"
      }
    },
    {
      "cell_type": "markdown",
      "source": [
        "# **Preparation**"
      ],
      "metadata": {
        "id": "sgaTmXyNGpww"
      }
    },
    {
      "cell_type": "code",
      "execution_count": null,
      "metadata": {
        "id": "44c06c36-2b3e-4218-97ee-9e1339c291ae"
      },
      "outputs": [],
      "source": [
        "#Install the libraries\n",
        "!pip install pandas\n",
        "!pip install openai\n",
        "!pip install numpy"
      ]
    },
    {
      "cell_type": "code",
      "source": [
        "import requests\n",
        "import openai\n",
        "openai.api_key = 'insert your API here'"
      ],
      "metadata": {
        "id": "TwQssxH2JUMH"
      },
      "execution_count": null,
      "outputs": []
    },
    {
      "cell_type": "markdown",
      "source": [
        "\n",
        "# **Find out the topics**"
      ],
      "metadata": {
        "id": "byeYQfn8IBZ9"
      }
    },
    {
      "cell_type": "markdown",
      "source": [
        "You can insert your text for topic model below. However, at this moment, chatgpt has 4096 token limit. If your text exceeds this limit, you may draw a small random sample and conduct the analysis. You may perform this several times to find a stable outcome."
      ],
      "metadata": {
        "id": "shKTRfNt1xfN"
      }
    },
    {
      "cell_type": "code",
      "source": [
        "prompt = f\"please insert your text data here. [Examples for instruction: This text contains several topics. Please summarize each topic]\"\n",
        "\n",
        "response= openai.ChatCompletion.create(model=\"gpt-4\",messages=[{\"role\": \"user\", \"content\": prompt}]) #You may change it to other models."
      ],
      "metadata": {
        "id": "5gGIY94XIoVy"
      },
      "execution_count": null,
      "outputs": []
    },
    {
      "cell_type": "code",
      "source": [
        "print(response)"
      ],
      "metadata": {
        "id": "47Y6Ymzji0dF"
      },
      "execution_count": null,
      "outputs": []
    },
    {
      "cell_type": "markdown",
      "source": [
        "# **Assign each message to the relevant topic**"
      ],
      "metadata": {
        "id": "84Gl6id3IMik"
      }
    },
    {
      "cell_type": "markdown",
      "source": [
        "After your determine the number of the topic, the title of the topic, and the definition of the topic, you can perform this step to assign each message to the relevant topic. I recommend you to use a csv file to store your text data. In case you use an excel, you can contact me for an excel version."
      ],
      "metadata": {
        "id": "YrGf4rfs3C9F"
      }
    },
    {
      "cell_type": "code",
      "source": [
        "import csv\n",
        "import requests\n",
        "import openai\n",
        "\n",
        "# Initialize the OpenAI API client\n",
        "openai.api_key = 'please paste your API here'\n",
        "\n",
        "# Open the tweet.csv file, you should upload it to colab or open it in your local enviroment.\n",
        "with open(\"tweet.csv\", \"r\") as csvfile:\n",
        "    reader = csv.DictReader(csvfile)\n",
        "\n",
        "    # Create a new file called: tweet_results.csv to store the results\n",
        "    with open(\"tweet_results.csv\", \"w\") as csv_file: #you can change the name to newname.csv\n",
        "        writer = csv.DictWriter(csv_file, fieldnames=[\"tweet\", \"answer\"]) #replace tweet and answer with the new variable name A and B you like.\n",
        "        writer.writeheader()\n",
        "\n",
        "        # Iterate over each tweet\n",
        "        for row in reader:\n",
        "            # Get the tweet text\n",
        "            tweet_text = row[\"tweet\"] #here please replace tweet with the variable name of the text in your csv file.\n",
        "            # Ask ChatGPT 4.0 if the tweet contains related content\n",
        "            prompt = f\"you are now a researcher and you will tell me if the following reply belongs to which topic. In total there are xxx number of topics: Topic 1 xxx; Topic 2 xxx \\\"{tweet_text}\\\"\"\n",
        "            response= openai.ChatCompletion.create(model=\"gpt-4\",messages=[{\"role\": \"user\", \"content\": prompt}])\n",
        "\n",
        "            # Get the response from ChatGPT\n",
        "            #response_text = response[\"choices\"][0][\"text\"]\n",
        "            response_text = response[\"choices\"][0][\"message\"][\"content\"]\n",
        "            answer = response_text #replace answer with your new variable name B\n",
        "\n",
        "            # Write the results to the file\n",
        "            writer.writerow({\"tweet\": tweet_text, \"answer\": answer}) #replace tweet with your new variable name A, and answer with you new variable name B"
      ],
      "metadata": {
        "id": "b1ZtcA76R0I9"
      },
      "execution_count": null,
      "outputs": []
    }
  ]
}